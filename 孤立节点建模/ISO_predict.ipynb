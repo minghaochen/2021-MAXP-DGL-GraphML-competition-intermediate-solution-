{
 "cells": [
  {
   "cell_type": "code",
   "execution_count": 1,
   "id": "391bad80",
   "metadata": {},
   "outputs": [
    {
     "name": "stderr",
     "output_type": "stream",
     "text": [
      "Using backend: pytorch\n"
     ]
    }
   ],
   "source": [
    "import gc\n",
    "from sklearn.decomposition import PCA\n",
    "import lightgbm as lgb\n",
    "import numpy as np\n",
    "import pandas as pd\n",
    "from sklearn.model_selection import StratifiedKFold,KFold\n",
    "import os\n",
    "import pickle\n",
    "from sklearn.metrics import precision_score\n",
    "from catboost import CatBoostClassifier\n",
    "import dgl\n",
    "from sklearn.model_selection import StratifiedKFold\n",
    "import math\n",
    "import torch.nn.functional as F\n",
    "import torch.nn as nn\n",
    "from tqdm import tqdm\n",
    "from copy import deepcopy\n",
    "import torch"
   ]
  },
  {
   "cell_type": "code",
   "execution_count": 2,
   "id": "013764d3",
   "metadata": {},
   "outputs": [
    {
     "name": "stdout",
     "output_type": "stream",
     "text": [
      "    ###      use      fold: 0\n",
      "################ Feature info: ###############\n",
      "Node's feature shape:torch.Size([3655452, 300])\n"
     ]
    }
   ],
   "source": [
    "def load_dgl_graph_k_fold(base_path, fold=-1, k=6, seed=2021):\n",
    "\n",
    "    with open(os.path.join(base_path, 'labels.pkl'), 'rb') as f:\n",
    "        label_data = pickle.load(f)\n",
    "    labels = torch.from_numpy(label_data['label'])\n",
    "    labels = labels.to(torch.int64)\n",
    "    test_label_idx = label_data['test_label_idx']\n",
    "    if fold == -1:\n",
    "        tr_label_idx = label_data['tr_label_idx']\n",
    "        val_label_idx = label_data['val_label_idx']\n",
    "    else:\n",
    "        train_idx = np.concatenate((label_data['tr_label_idx'], label_data['val_label_idx']))\n",
    "        folds = StratifiedKFold(n_splits=k, shuffle=True, random_state=seed)\n",
    "        for i, (tr, val) in enumerate(folds.split(train_idx, labels[train_idx])):\n",
    "            tr_label_idx, val_label_idx = train_idx[tr], train_idx[val]\n",
    "            if i == fold:\n",
    "                print('    ###      use      fold: {}'.format(fold))\n",
    "                break\n",
    "    # get node features\n",
    "    features = np.load(os.path.join(base_path, 'features.npy'))\n",
    "    node_feat = torch.from_numpy(features).float()\n",
    "    print('################ Feature info: ###############')\n",
    "    print('Node\\'s feature shape:{}'.format(node_feat.shape))\n",
    "    return labels, tr_label_idx, val_label_idx, test_label_idx, node_feat\n",
    "\n",
    "class FastTensorDataLoader:\n",
    "    def __init__(self, *tensors, batch_size=32, shuffle=False):\n",
    "        assert all(t.shape[0] == tensors[0].shape[0] for t in tensors)\n",
    "        self.tensors = tensors\n",
    "\n",
    "        self.dataset_len = self.tensors[0].shape[0]\n",
    "        self.batch_size = batch_size\n",
    "        self.shuffle = shuffle\n",
    "\n",
    "        # Calculate # batches\n",
    "        n_batches, remainder = divmod(self.dataset_len, self.batch_size)\n",
    "        if remainder > 0:\n",
    "            n_batches += 1\n",
    "        self.n_batches = n_batches\n",
    "    def __iter__(self):\n",
    "        if self.shuffle:\n",
    "            r = torch.randperm(self.dataset_len)\n",
    "            self.tensors = [t[r] for t in self.tensors]\n",
    "        self.i = 0\n",
    "        return self\n",
    "\n",
    "    def __next__(self):\n",
    "        if self.i >= self.dataset_len:\n",
    "            raise StopIteration\n",
    "        batch = tuple(t[self.i:self.i+self.batch_size] for t in self.tensors)\n",
    "        self.i += self.batch_size\n",
    "        return batch\n",
    "\n",
    "    def __len__(self):\n",
    "        return self.n_batches\n",
    "\n",
    "base_path = 'E:/ZJL/DGL'\n",
    "def adjust_learning_rate(optimizer, epoch):\n",
    "    for param_group in optimizer.param_groups:\n",
    "        param_group[\"lr\"] = 0.001 + (epoch % 5)*0.001\n",
    "\n",
    "n_epochs = 1000\n",
    "device = 'cuda:0'\n",
    "batch_size = 4096\n",
    "fold = 0\n",
    "labels, tr_label_idx, val_label_idx, test_label_idx, node_feat = load_dgl_graph_k_fold(base_path,fold)\n",
    "\n",
    "test_data_loader = FastTensorDataLoader(\n",
    "    node_feat,\n",
    "    labels,\n",
    "    batch_size=batch_size, shuffle=False)"
   ]
  },
  {
   "cell_type": "code",
   "execution_count": 4,
   "id": "907a25e7",
   "metadata": {},
   "outputs": [],
   "source": [
    "class ISO_Node_NN(nn.Module):  \n",
    "\n",
    "    def __init__(self): \n",
    "        super(ISO_Node_NN, self).__init__()        \n",
    "        self.net = nn.Sequential(\n",
    "            nn.Linear(300,2048),\n",
    "            nn.BatchNorm1d(2048),\n",
    "            nn.ReLU(),\n",
    "            nn.Dropout(0.5),\n",
    "            nn.Linear(2048,1024),\n",
    "            nn.BatchNorm1d(1024),\n",
    "            nn.ReLU(),\n",
    "            nn.Dropout(0.5),\n",
    "            nn.Linear(1024,512),\n",
    "            nn.BatchNorm1d(512),\n",
    "            nn.ReLU(),\n",
    "            nn.Dropout(0.5),\n",
    "            nn.Linear(512,256),\n",
    "            nn.BatchNorm1d(256),\n",
    "            nn.ReLU(),\n",
    "            nn.Dropout(0.5),\n",
    "            nn.Linear(256,128),\n",
    "            nn.BatchNorm1d(128),\n",
    "            nn.ReLU(),\n",
    "            nn.Dropout(0.5),\n",
    "            nn.Linear(128,64),\n",
    "            nn.BatchNorm1d(64),\n",
    "            nn.ReLU(),\n",
    "            nn.Dropout(0.5),\n",
    "            nn.Linear(64, 23),\n",
    "        )\n",
    "        \n",
    "\n",
    "    def forward(self, x):  \n",
    "        x = self.net(x)\n",
    "        return x\n",
    "\n",
    "for fold in range(10):\n",
    "    model = ISO_Node_NN().to(device)\n",
    "    PATH = f'dnn_fold_{fold}_stage_1'\n",
    "    model.load_state_dict(torch.load(PATH))\n",
    "    model.eval()\n",
    "    count = 0\n",
    "    all_batch_list = []\n",
    "    for X_sequence, target in test_data_loader:\n",
    "        X_sequence, target = X_sequence.to(device), target.to(device)\n",
    "        y_hat = model(X_sequence)\n",
    "        all_batch_list.append(y_hat.cpu().detach().numpy())\n",
    "    # 预测结果\n",
    "    all_batch_list = np.vstack(all_batch_list)\n",
    "    all_batch_list = F.softmax(torch.tensor(all_batch_list), dim=1).numpy()\n",
    "    np.save(f'dnn_{fold}.npy',all_batch_list)"
   ]
  },
  {
   "cell_type": "code",
   "execution_count": 5,
   "id": "e4a2674b",
   "metadata": {},
   "outputs": [
    {
     "data": {
      "text/plain": [
       "0.9999998869223461"
      ]
     },
     "execution_count": 5,
     "metadata": {},
     "output_type": "execute_result"
    }
   ],
   "source": [
    "sum(all_batch_list[0])"
   ]
  },
  {
   "cell_type": "code",
   "execution_count": 6,
   "id": "8bafeea4",
   "metadata": {},
   "outputs": [],
   "source": [
    "for fold in range(10):\n",
    "    if fold == 0:\n",
    "        dnn_pred = np.load(f'dnn_{fold}.npy') / 10\n",
    "    else:\n",
    "        dnn_pred += np.load(f'dnn_{fold}.npy') / 10"
   ]
  },
  {
   "cell_type": "code",
   "execution_count": 7,
   "id": "46203151",
   "metadata": {},
   "outputs": [
    {
     "data": {
      "text/plain": [
       "(3655452, 23)"
      ]
     },
     "execution_count": 7,
     "metadata": {},
     "output_type": "execute_result"
    }
   ],
   "source": [
    "dnn_pred.shape"
   ]
  },
  {
   "cell_type": "code",
   "execution_count": 8,
   "id": "22977762",
   "metadata": {},
   "outputs": [
    {
     "name": "stdout",
     "output_type": "stream",
     "text": [
      "################ Graph info: ###############\n",
      "Graph(num_nodes=3655452, num_edges=29168650,\n",
      "      ndata_schemes={}\n",
      "      edata_schemes={})\n"
     ]
    }
   ],
   "source": [
    "base_path = 'E:/ZJL/DGL'\n",
    "graphs, _ = dgl.load_graphs(os.path.join(base_path, 'graph.bin'))\n",
    "graph = graphs[0]\n",
    "print('################ Graph info: ###############')\n",
    "print(graph)\n",
    "degrees = (graph.in_degrees() + graph.out_degrees()).numpy()\n",
    "iso_set = set(np.where(degrees==0)[0])\n",
    "label_nodes = np.array(sorted(list(set(tr_label_idx)|set(val_label_idx))))\n",
    "valid_nodes = np.array(sorted(list(set(label_nodes) & iso_set)))\n",
    "train_nodes = np.array(sorted(list(set(label_nodes) - iso_set)))\n",
    "iso_set = np.array(sorted(list(iso_set)))"
   ]
  },
  {
   "cell_type": "code",
   "execution_count": null,
   "id": "47d35d7f",
   "metadata": {},
   "outputs": [],
   "source": [
    "iso_set = set(np.where(degrees==0)[0])\n",
    "iso_set = np.array(sorted(list(iso_set)))\n",
    "gat_pred[iso_set] = dnn_pred[iso_set]"
   ]
  },
  {
   "cell_type": "code",
   "execution_count": 9,
   "id": "b94dbcd5",
   "metadata": {},
   "outputs": [
    {
     "data": {
      "text/plain": [
       "array([3.49307243e-07, 2.25985750e-05, 1.41264347e-04, 6.99978700e-05,\n",
       "       2.89810159e-05, 1.19760125e-05, 8.93251781e-05, 4.13037960e-05,\n",
       "       1.50599162e-05, 1.15041994e-05, 1.46285573e-04, 3.74739502e-05,\n",
       "       6.67416825e-05, 1.83618286e-05, 4.82234873e-06, 3.49691436e-05,\n",
       "       5.08569030e-07, 1.32556409e-06, 9.98904109e-01, 2.46741001e-06,\n",
       "       1.10471717e-06, 3.43295134e-04, 6.19029333e-06], dtype=float32)"
      ]
     },
     "execution_count": 9,
     "metadata": {},
     "output_type": "execute_result"
    }
   ],
   "source": [
    "dnn_pred[0]"
   ]
  },
  {
   "cell_type": "code",
   "execution_count": 10,
   "id": "de43922b",
   "metadata": {},
   "outputs": [
    {
     "data": {
      "text/plain": [
       "array([4.6558498e-07, 1.6007137e-04, 2.6909291e-04, 3.0858826e-04,\n",
       "       3.3176594e-04, 1.4252805e-04, 2.5829382e-05, 1.7682193e-03,\n",
       "       8.9285577e-06, 1.2256396e-03, 3.7529125e-04, 4.8739812e-04,\n",
       "       1.2147106e-03, 1.1182405e-03, 1.7305930e-06, 9.2309747e-05,\n",
       "       3.1169268e-04, 1.4099326e-04, 9.9908543e+00, 5.3259624e-05,\n",
       "       8.1599894e-04, 3.2339729e-05, 2.6159891e-04], dtype=float32)"
      ]
     },
     "execution_count": 10,
     "metadata": {},
     "output_type": "execute_result"
    }
   ],
   "source": [
    "gat = np.load('gat_full.npy')\n",
    "# print(sum(gat[0]))\n",
    "gat[0]\n"
   ]
  },
  {
   "cell_type": "code",
   "execution_count": 11,
   "id": "d2c142d8",
   "metadata": {},
   "outputs": [],
   "source": [
    "gat[iso_set] = dnn_pred[iso_set]"
   ]
  },
  {
   "cell_type": "code",
   "execution_count": 12,
   "id": "2bff8e91",
   "metadata": {},
   "outputs": [
    {
     "data": {
      "text/plain": [
       "array([3.49307243e-07, 2.25985750e-05, 1.41264347e-04, 6.99978700e-05,\n",
       "       2.89810159e-05, 1.19760125e-05, 8.93251781e-05, 4.13037960e-05,\n",
       "       1.50599162e-05, 1.15041994e-05, 1.46285573e-04, 3.74739502e-05,\n",
       "       6.67416825e-05, 1.83618286e-05, 4.82234873e-06, 3.49691436e-05,\n",
       "       5.08569030e-07, 1.32556409e-06, 9.98904109e-01, 2.46741001e-06,\n",
       "       1.10471717e-06, 3.43295134e-04, 6.19029333e-06], dtype=float32)"
      ]
     },
     "execution_count": 12,
     "metadata": {},
     "output_type": "execute_result"
    }
   ],
   "source": [
    "gat[0]"
   ]
  },
  {
   "cell_type": "code",
   "execution_count": 13,
   "id": "4436c1c5",
   "metadata": {},
   "outputs": [],
   "source": [
    "gat = gat[-592391:]"
   ]
  },
  {
   "cell_type": "code",
   "execution_count": 14,
   "id": "e4e4fc43",
   "metadata": {},
   "outputs": [],
   "source": [
    "np.save('gat_iso.npy',gat)"
   ]
  },
  {
   "cell_type": "code",
   "execution_count": null,
   "id": "bc312639",
   "metadata": {},
   "outputs": [],
   "source": []
  },
  {
   "cell_type": "code",
   "execution_count": 148,
   "id": "79644d50",
   "metadata": {},
   "outputs": [
    {
     "name": "stdout",
     "output_type": "stream",
     "text": [
      "(591972, 2)\n",
      "                                 id label\n",
      "0  c39457cc34fa969b03819eaa4f9b7a52     P\n",
      "1  668b9d0c53e9b6e2c6b1093102f976b3     P\n",
      "2  ca5c7bc1b40c0ef3c3f864aed032ca90     G\n",
      "3  44f810c0c000cda27ce618add55e815f     F\n",
      "4  3c206335d88637d36d83c2942586be98     K\n"
     ]
    }
   ],
   "source": [
    "prediction = [\"A\",\"B\",\"C\",\"D\",\"E\",\"F\",\"G\",\n",
    "              \"H\",\"I\",\"J\",\"K\",\"L\",\"M\",\"N\",\n",
    "              \"O\",\"P\",\"Q\",\"R\",\"S\",\"T\",\"U\",\n",
    "              \"V\",\"W\"]\n",
    "score_map = {}\n",
    "for i in range(23):\n",
    "    score_map[i] = prediction[i]\n",
    "\n",
    "gat = np.argmax(gat, axis=1)\n",
    "submit = pd.read_csv(\"E:/ZJL/DGL/sample_submission_for_validation.csv\")\n",
    "print(submit.shape)\n",
    "submit[\"label\"] = gat[0:submit.shape[0]]\n",
    "submit[\"label\"] = submit[\"label\"].map(score_map)\n",
    "print(submit.head())\n",
    "submit.to_csv(\"E:/ZJL/DGL/submission_gat.csv\", index=None)"
   ]
  },
  {
   "cell_type": "code",
   "execution_count": 98,
   "id": "737d6bc1",
   "metadata": {},
   "outputs": [
    {
     "data": {
      "text/plain": [
       "301.1361563999512"
      ]
     },
     "execution_count": 98,
     "metadata": {},
     "output_type": "execute_result"
    }
   ],
   "source": [
    "591972*(0.558989-0.5584803)"
   ]
  },
  {
   "cell_type": "code",
   "execution_count": 114,
   "id": "ee015133",
   "metadata": {},
   "outputs": [
    {
     "data": {
      "text/plain": [
       "357.1367075999842"
      ]
     },
     "execution_count": 114,
     "metadata": {},
     "output_type": "execute_result"
    }
   ],
   "source": [
    "591972*(0.5590836-0.5584803) # 10 fold"
   ]
  },
  {
   "cell_type": "code",
   "execution_count": 137,
   "id": "baba2700",
   "metadata": {},
   "outputs": [
    {
     "data": {
      "text/plain": [
       "450.43149479997237"
      ]
     },
     "execution_count": 137,
     "metadata": {},
     "output_type": "execute_result"
    }
   ],
   "source": [
    "591972*(0.5592412-0.5584803)  # 伪标签"
   ]
  },
  {
   "cell_type": "code",
   "execution_count": null,
   "id": "05c3c4f9",
   "metadata": {},
   "outputs": [],
   "source": []
  }
 ],
 "metadata": {
  "kernelspec": {
   "display_name": "Python 3",
   "language": "python",
   "name": "python3"
  },
  "language_info": {
   "codemirror_mode": {
    "name": "ipython",
    "version": 3
   },
   "file_extension": ".py",
   "mimetype": "text/x-python",
   "name": "python",
   "nbconvert_exporter": "python",
   "pygments_lexer": "ipython3",
   "version": "3.7.0"
  }
 },
 "nbformat": 4,
 "nbformat_minor": 5
}
